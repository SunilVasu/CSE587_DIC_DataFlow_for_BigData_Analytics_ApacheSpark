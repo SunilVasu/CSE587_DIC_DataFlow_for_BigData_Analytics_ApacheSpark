{
 "cells": [
  {
   "cell_type": "code",
   "execution_count": 10,
   "metadata": {
    "collapsed": true
   },
   "outputs": [],
   "source": [
    "import pyspark\n",
    "import os\n",
    "from pyspark.sql.types import *\n",
    "from pyspark.sql import Row\n",
    "import itertools"
   ]
  },
  {
   "cell_type": "markdown",
   "metadata": {},
   "source": [
    "## Please uncomment below line if creation of spark context is required "
   ]
  },
  {
   "cell_type": "code",
   "execution_count": 11,
   "metadata": {
    "collapsed": true
   },
   "outputs": [],
   "source": [
    "##sc = pyspark.SparkContext()"
   ]
  },
  {
   "cell_type": "markdown",
   "metadata": {},
   "source": [
    "## Please change the below input directory paths and the lemma file path as required"
   ]
  },
  {
   "cell_type": "code",
   "execution_count": 18,
   "metadata": {
    "collapsed": false
   },
   "outputs": [],
   "source": [
    "project_directory = \"/home/rv/Documents/Projects/DIC/lab5\"\n",
    "data_directory = project_directory + \"/data\"\n",
    "lemmaFile = sc.textFile(\"file://\"+project_directory+\"/new_lemmatizer.csv\")\n",
    "\n",
    "fileList = os.listdir(directory)\n",
    "lis = [None]*len(fileList)\n",
    "\n",
    "# Concatenating files to a single RDD\n",
    "for i,file in enumerate(fileList):\n",
    "    temp = sc.textFile(\"file://\"+data_directory+\"/\"+file)\n",
    "    if i==0:\n",
    "        textFile = temp \n",
    "    else:\n",
    "        textFile = textFile.union(temp)\n",
    "\n",
    "\n",
    "# Loading lemma File\n"
   ]
  },
  {
   "cell_type": "markdown",
   "metadata": {},
   "source": [
    "## Creating a Row structure for a RDD containing lineInfo - Text "
   ]
  },
  {
   "cell_type": "code",
   "execution_count": 13,
   "metadata": {
    "collapsed": false
   },
   "outputs": [],
   "source": [
    "\n",
    "Line = Row('lineInfo', 'text')\n",
    "res = textFile.map(lambda line: Line(*line.split(\">\")))"
   ]
  },
  {
   "cell_type": "markdown",
   "metadata": {},
   "source": [
    "## Normalizing the word spelling "
   ]
  },
  {
   "cell_type": "code",
   "execution_count": 14,
   "metadata": {
    "collapsed": false
   },
   "outputs": [],
   "source": [
    "\n",
    "\n",
    "test = res.map(lambda line:(line[0],line[1].replace(\"j\",\"i\").replace(\"v\",\"u\")) )\n",
    "\n"
   ]
  },
  {
   "cell_type": "code",
   "execution_count": 15,
   "metadata": {
    "collapsed": false
   },
   "outputs": [],
   "source": [
    "dic = lemmaFile.map(lambda line:line.strip(',').split(','))\n",
    "r = dic.collect()\n",
    "\n",
    "## Creating a dictionary from the lemma file\n",
    "lemma_map = dict()\n",
    "\n",
    "for val in r:\n",
    "    lemma_map[val[0]] = val[1:]\n",
    "    \n",
    "## combinations is a mapper function used to convert the data to a key - pair/triplet format \n",
    "## ngram variable can be used to change the co-occurrence to n=3 or 3 words co-occurring. \n",
    "ngram = 2\n",
    "\n",
    "def combinations(line):\n",
    "    k = line[0]\n",
    "    v = line[1].strip().split()\n",
    "    temp = v[:]\n",
    "    include = list()\n",
    "  \n",
    "    for val in v:\n",
    "        if val in lemma_map:\n",
    "            temp.remove(val)\n",
    "            include+= lemma_map[val]\n",
    "  \n",
    "    l = temp+include\n",
    "  \n",
    "    return [(k, v) for v in itertools.combinations(l, ngram)]\n",
    "  \n",
    "ch = test.map(combinations).flatMap(lambda x:x)"
   ]
  },
  {
   "cell_type": "markdown",
   "metadata": {},
   "source": [
    "### The below line is the reducer code used to convert the input key-pairs to the required key-list of co-occurences "
   ]
  },
  {
   "cell_type": "code",
   "execution_count": 16,
   "metadata": {
    "collapsed": false
   },
   "outputs": [],
   "source": [
    "\n",
    "final = ch.map(lambda x: (x[1], [x[0]])).reduceByKey(lambda p,q: p+q)"
   ]
  },
  {
   "cell_type": "markdown",
   "metadata": {},
   "source": [
    "### Please change the output file directory as required"
   ]
  },
  {
   "cell_type": "code",
   "execution_count": 17,
   "metadata": {
    "collapsed": false
   },
   "outputs": [],
   "source": [
    "outputFileDir = \"outputadsf\"\n",
    "final.saveAsTextFile(outputFileDir)"
   ]
  },
  {
   "cell_type": "code",
   "execution_count": null,
   "metadata": {
    "collapsed": false
   },
   "outputs": [],
   "source": [
    "\n",
    "\n"
   ]
  },
  {
   "cell_type": "code",
   "execution_count": null,
   "metadata": {
    "collapsed": false
   },
   "outputs": [],
   "source": []
  },
  {
   "cell_type": "code",
   "execution_count": null,
   "metadata": {
    "collapsed": true
   },
   "outputs": [],
   "source": []
  },
  {
   "cell_type": "code",
   "execution_count": null,
   "metadata": {
    "collapsed": true
   },
   "outputs": [],
   "source": []
  }
 ],
 "metadata": {
  "kernelspec": {
   "display_name": "Python 3",
   "language": "python",
   "name": "python3"
  },
  "language_info": {
   "codemirror_mode": {
    "name": "ipython",
    "version": 3
   },
   "file_extension": ".py",
   "mimetype": "text/x-python",
   "name": "python",
   "nbconvert_exporter": "python",
   "pygments_lexer": "ipython3",
   "version": "3.6.0"
  },
  "name": "LatinWordCo",
  "notebookId": 1616765205206588
 },
 "nbformat": 4,
 "nbformat_minor": 0
}
